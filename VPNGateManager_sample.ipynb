{
  "nbformat": 4,
  "nbformat_minor": 0,
  "metadata": {
    "colab": {
      "provenance": []
    },
    "kernelspec": {
      "name": "python3",
      "display_name": "Python 3"
    },
    "language_info": {
      "name": "python"
    }
  },
  "cells": [
    {
      "cell_type": "code",
      "source": [
        "!git clone https://github.com/yryo1005/VPNGateManager.git"
      ],
      "metadata": {
        "colab": {
          "base_uri": "https://localhost:8080/"
        },
        "id": "GP2npzY0-FMj",
        "outputId": "d4988e85-519f-4391-af8e-29b822cbb293"
      },
      "execution_count": 1,
      "outputs": [
        {
          "output_type": "stream",
          "name": "stdout",
          "text": [
            "Cloning into 'VPNGateManager'...\n",
            "remote: Enumerating objects: 6, done.\u001b[K\n",
            "remote: Counting objects: 100% (6/6), done.\u001b[K\n",
            "remote: Compressing objects: 100% (4/4), done.\u001b[K\n",
            "Receiving objects: 100% (6/6), done.\n",
            "remote: Total 6 (delta 0), reused 0 (delta 0), pack-reused 0 (from 0)\u001b[K\n"
          ]
        }
      ]
    },
    {
      "cell_type": "code",
      "source": [
        "# OpenVPNのインストール(初回のみ実行)\n",
        "!apt install openvpn -y"
      ],
      "metadata": {
        "colab": {
          "base_uri": "https://localhost:8080/"
        },
        "id": "Axzr93Te44SB",
        "outputId": "b96fe5ff-ba2e-4363-e45b-cf3c94a954ae"
      },
      "execution_count": 2,
      "outputs": [
        {
          "output_type": "stream",
          "name": "stdout",
          "text": [
            "Reading package lists... Done\n",
            "Building dependency tree... Done\n",
            "Reading state information... Done\n",
            "The following additional packages will be installed:\n",
            "  libpkcs11-helper1\n",
            "Suggested packages:\n",
            "  resolvconf openvpn-systemd-resolved easy-rsa\n",
            "The following NEW packages will be installed:\n",
            "  libpkcs11-helper1 openvpn\n",
            "0 upgraded, 2 newly installed, 0 to remove and 35 not upgraded.\n",
            "Need to get 669 kB of archives.\n",
            "After this operation, 1,832 kB of additional disk space will be used.\n",
            "Get:1 http://archive.ubuntu.com/ubuntu jammy-updates/main amd64 libpkcs11-helper1 amd64 1.28-1ubuntu0.22.04.1 [50.3 kB]\n",
            "Get:2 http://archive.ubuntu.com/ubuntu jammy-updates/main amd64 openvpn amd64 2.5.11-0ubuntu0.22.04.1 [619 kB]\n",
            "Fetched 669 kB in 0s (2,133 kB/s)\n",
            "Preconfiguring packages ...\n",
            "Selecting previously unselected package libpkcs11-helper1:amd64.\n",
            "(Reading database ... 126371 files and directories currently installed.)\n",
            "Preparing to unpack .../libpkcs11-helper1_1.28-1ubuntu0.22.04.1_amd64.deb ...\n",
            "Unpacking libpkcs11-helper1:amd64 (1.28-1ubuntu0.22.04.1) ...\n",
            "Selecting previously unselected package openvpn.\n",
            "Preparing to unpack .../openvpn_2.5.11-0ubuntu0.22.04.1_amd64.deb ...\n",
            "Unpacking openvpn (2.5.11-0ubuntu0.22.04.1) ...\n",
            "Setting up libpkcs11-helper1:amd64 (1.28-1ubuntu0.22.04.1) ...\n",
            "Setting up openvpn (2.5.11-0ubuntu0.22.04.1) ...\n",
            "Created symlink /etc/systemd/system/multi-user.target.wants/openvpn.service → /lib/systemd/system/openvpn.service.\n",
            "Processing triggers for man-db (2.10.2-1) ...\n",
            "Processing triggers for libc-bin (2.35-0ubuntu3.8) ...\n",
            "/sbin/ldconfig.real: /usr/local/lib/libtcm_debug.so.1 is not a symbolic link\n",
            "\n",
            "/sbin/ldconfig.real: /usr/local/lib/libhwloc.so.15 is not a symbolic link\n",
            "\n",
            "/sbin/ldconfig.real: /usr/local/lib/libtbbbind_2_5.so.3 is not a symbolic link\n",
            "\n",
            "/sbin/ldconfig.real: /usr/local/lib/libtbbmalloc_proxy.so.2 is not a symbolic link\n",
            "\n",
            "/sbin/ldconfig.real: /usr/local/lib/libur_adapter_opencl.so.0 is not a symbolic link\n",
            "\n",
            "/sbin/ldconfig.real: /usr/local/lib/libtbbbind_2_0.so.3 is not a symbolic link\n",
            "\n",
            "/sbin/ldconfig.real: /usr/local/lib/libur_adapter_level_zero.so.0 is not a symbolic link\n",
            "\n",
            "/sbin/ldconfig.real: /usr/local/lib/libtbbmalloc.so.2 is not a symbolic link\n",
            "\n",
            "/sbin/ldconfig.real: /usr/local/lib/libur_adapter_level_zero_v2.so.0 is not a symbolic link\n",
            "\n",
            "/sbin/ldconfig.real: /usr/local/lib/libtbbbind.so.3 is not a symbolic link\n",
            "\n",
            "/sbin/ldconfig.real: /usr/local/lib/libtcm.so.1 is not a symbolic link\n",
            "\n",
            "/sbin/ldconfig.real: /usr/local/lib/libtbb.so.12 is not a symbolic link\n",
            "\n",
            "/sbin/ldconfig.real: /usr/local/lib/libur_loader.so.0 is not a symbolic link\n",
            "\n",
            "/sbin/ldconfig.real: /usr/local/lib/libumf.so.0 is not a symbolic link\n",
            "\n"
          ]
        }
      ]
    },
    {
      "cell_type": "markdown",
      "source": [
        "使用例"
      ],
      "metadata": {
        "id": "8LcqG0757Y3H"
      }
    },
    {
      "cell_type": "code",
      "source": [
        "import requests\n",
        "from VPNGateManager.vpngate_manager import VpngateManager\n",
        "\n",
        "def get_my_ip():\n",
        "    try:\n",
        "        res = requests.get(\"https://api.ipify.org\")\n",
        "        return res.text\n",
        "    except Exception as e:\n",
        "        return f\"IP確認エラー: {e}\"\n",
        "\n",
        "print(\"自分のIP:\", get_my_ip())\n",
        "\n",
        "vpn_manager = VpngateManager(tmp_file=\"tmp.ovpn\", connect_timeout=3, verbose=True)\n",
        "vpn_manager.connect()\n",
        "print(\"自分のIP:\", get_my_ip())\n",
        "vpn_manager.disconnect()\n",
        "\n",
        "print(\"自分のIP:\", get_my_ip())"
      ],
      "metadata": {
        "colab": {
          "base_uri": "https://localhost:8080/"
        },
        "id": "WZnQhSy97Xe2",
        "outputId": "33e764c7-b7b2-49ae-943a-bfda0e5e43ee"
      },
      "execution_count": 3,
      "outputs": [
        {
          "output_type": "stream",
          "name": "stdout",
          "text": [
            "自分のIP: 34.148.195.55\n",
            "自分のIP: 34.148.195.55\n",
            "VPN 切断完了\n",
            "自分のIP: 34.148.195.55\n"
          ]
        }
      ]
    }
  ]
}